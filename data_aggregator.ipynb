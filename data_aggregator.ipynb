{
 "cells": [
  {
   "cell_type": "code",
   "execution_count": 32,
   "id": "a6fdfe5f-4d05-48f1-974c-86d57dcfeb65",
   "metadata": {},
   "outputs": [],
   "source": [
    "#load libs\n",
    "import os\n",
    "import re"
   ]
  },
  {
   "cell_type": "code",
   "execution_count": 33,
   "id": "02f73c08-36f6-4751-b81b-4180ad3cb6dc",
   "metadata": {},
   "outputs": [
    {
     "name": "stdout",
     "output_type": "stream",
     "text": [
      "C:\\Users\\daryl\\Development\\imagine-ai\\strv-ml-mask2face\\data\n"
     ]
    }
   ],
   "source": [
    "#enter folder\n",
    "%cd  C:/Users/daryl/Development/imagine-ai/strv-ml-mask2face/data"
   ]
  },
  {
   "cell_type": "code",
   "execution_count": 41,
   "id": "5e0ff5e5-9006-4dec-bcef-8c20079f14cb",
   "metadata": {},
   "outputs": [
    {
     "data": {
      "text/plain": [
       "['train1',\n",
       " 'train10',\n",
       " 'train11',\n",
       " 'train12',\n",
       " 'train13',\n",
       " 'train14',\n",
       " 'train15',\n",
       " 'train16',\n",
       " 'train2',\n",
       " 'train3',\n",
       " 'train4',\n",
       " 'train5',\n",
       " 'train6',\n",
       " 'train7',\n",
       " 'train8',\n",
       " 'train9']"
      ]
     },
     "execution_count": 41,
     "metadata": {},
     "output_type": "execute_result"
    }
   ],
   "source": [
    "#list folders\n",
    "image_folders = os.listdir()\n",
    "r = re.compile(\"train[\\s\\S]*\\d$\")\n",
    "image_folders = list(filter(r.match, image_folders))\n",
    "image_folders"
   ]
  },
  {
   "cell_type": "code",
   "execution_count": 42,
   "id": "2c317573-f791-4e19-baca-33a7ddb83d66",
   "metadata": {},
   "outputs": [
    {
     "name": "stdout",
     "output_type": "stream",
     "text": [
      "0\n",
      "['000000.png']\n",
      "012499.png\n"
     ]
    },
    {
     "ename": "IndexError",
     "evalue": "list index out of range",
     "output_type": "error",
     "traceback": [
      "\u001b[1;31m---------------------------------------------------------------------------\u001b[0m",
      "\u001b[1;31mIndexError\u001b[0m                                Traceback (most recent call last)",
      "\u001b[1;32m~\\AppData\\Local\\Temp/ipykernel_27040/245813798.py\u001b[0m in \u001b[0;36m<module>\u001b[1;34m\u001b[0m\n\u001b[0;32m     10\u001b[0m         \u001b[0mos\u001b[0m\u001b[1;33m.\u001b[0m\u001b[0mrename\u001b[0m\u001b[1;33m(\u001b[0m\u001b[0mimage_folders\u001b[0m\u001b[1;33m[\u001b[0m\u001b[0mi\u001b[0m\u001b[1;33m]\u001b[0m\u001b[1;33m+\u001b[0m\u001b[1;34m'/inputs/'\u001b[0m\u001b[1;33m+\u001b[0m\u001b[0minput_folder\u001b[0m\u001b[1;33m[\u001b[0m\u001b[0mj\u001b[0m\u001b[1;33m]\u001b[0m\u001b[1;33m,\u001b[0m \u001b[0mimage_folders\u001b[0m\u001b[1;33m[\u001b[0m\u001b[0mi\u001b[0m\u001b[1;33m]\u001b[0m\u001b[1;33m+\u001b[0m\u001b[1;34m'/inputs/'\u001b[0m\u001b[1;33m+\u001b[0m\u001b[0mstr\u001b[0m\u001b[1;33m(\u001b[0m\u001b[0mi\u001b[0m\u001b[1;33m*\u001b[0m\u001b[1;36m12500\u001b[0m\u001b[1;33m+\u001b[0m\u001b[0mj\u001b[0m\u001b[1;33m)\u001b[0m\u001b[1;33m+\u001b[0m\u001b[1;34m\".png\"\u001b[0m\u001b[1;33m)\u001b[0m\u001b[1;33m\u001b[0m\u001b[1;33m\u001b[0m\u001b[0m\n\u001b[0;32m     11\u001b[0m \u001b[1;31m#         print(image_folders[i]+'/inputs/'+str(i*12500+j)+\".png\")\u001b[0m\u001b[1;33m\u001b[0m\u001b[1;33m\u001b[0m\u001b[1;33m\u001b[0m\u001b[0m\n\u001b[1;32m---> 12\u001b[1;33m         \u001b[0mos\u001b[0m\u001b[1;33m.\u001b[0m\u001b[0mrename\u001b[0m\u001b[1;33m(\u001b[0m\u001b[0mimage_folders\u001b[0m\u001b[1;33m[\u001b[0m\u001b[0mi\u001b[0m\u001b[1;33m]\u001b[0m\u001b[1;33m+\u001b[0m\u001b[1;34m'/outputs/'\u001b[0m\u001b[1;33m+\u001b[0m\u001b[0moutput_folder\u001b[0m\u001b[1;33m[\u001b[0m\u001b[0mj\u001b[0m\u001b[1;33m]\u001b[0m\u001b[1;33m,\u001b[0m \u001b[0mimage_folders\u001b[0m\u001b[1;33m[\u001b[0m\u001b[0mi\u001b[0m\u001b[1;33m]\u001b[0m\u001b[1;33m+\u001b[0m\u001b[1;34m'/outputs/'\u001b[0m\u001b[1;33m+\u001b[0m\u001b[0mstr\u001b[0m\u001b[1;33m(\u001b[0m\u001b[0mi\u001b[0m\u001b[1;33m*\u001b[0m\u001b[1;36m12500\u001b[0m\u001b[1;33m+\u001b[0m\u001b[0mj\u001b[0m\u001b[1;33m)\u001b[0m\u001b[1;33m+\u001b[0m\u001b[1;34m\".png\"\u001b[0m\u001b[1;33m)\u001b[0m\u001b[1;33m\u001b[0m\u001b[1;33m\u001b[0m\u001b[0m\n\u001b[0m\u001b[0;32m     13\u001b[0m \u001b[1;33m\u001b[0m\u001b[0m\n",
      "\u001b[1;31mIndexError\u001b[0m: list index out of range"
     ]
    }
   ],
   "source": [
    "#rename files with correct numbering\n",
    "for i in range(len(image_folders)):\n",
    "    print(i)\n",
    "    input_folder = os.listdir(image_folders[i]+'/inputs')\n",
    "    output_folder = os.listdir(image_folders[i]+'/outputs')\n",
    "    print(input_folder[0:1])\n",
    "    print(input_folder[-1])\n",
    "    for j in range(len(input_folder)):\n",
    "#         print(input_folder[j])\n",
    "        os.rename(image_folders[i]+'/inputs/'+input_folder[j], image_folders[i]+'/inputs/'+str(i*12500+j)+\".png\")\n",
    "#         print(image_folders[i]+'/inputs/'+str(i*12500+j)+\".png\")\n",
    "        os.rename(image_folders[i]+'/outputs/'+output_folder[j], image_folders[i]+'/outputs/'+str(i*12500+j)+\".png\")\n",
    "    "
   ]
  },
  {
   "cell_type": "code",
   "execution_count": null,
   "id": "8c8a43c4-2523-4c85-bf2a-cfae819ada1f",
   "metadata": {},
   "outputs": [],
   "source": []
  }
 ],
 "metadata": {
  "kernelspec": {
   "display_name": "Python [conda env:tf_test_1]",
   "language": "python",
   "name": "conda-env-tf_test_1-py"
  },
  "language_info": {
   "codemirror_mode": {
    "name": "ipython",
    "version": 3
   },
   "file_extension": ".py",
   "mimetype": "text/x-python",
   "name": "python",
   "nbconvert_exporter": "python",
   "pygments_lexer": "ipython3",
   "version": "3.8.0"
  }
 },
 "nbformat": 4,
 "nbformat_minor": 5
}
